{
 "cells": [
  {
   "cell_type": "code",
   "execution_count": 1,
   "metadata": {},
   "outputs": [],
   "source": [
    "import oa2801_lab4\n",
    "from tabulate import tabulate # Fancy printing "
   ]
  },
  {
   "cell_type": "code",
   "execution_count": 2,
   "metadata": {},
   "outputs": [
    {
     "name": "stdout",
     "output_type": "stream",
     "text": [
      "Reading file result_1850_1900.csv...done.\n",
      "Input list-of-lists contains 13021 lines.\n"
     ]
    }
   ],
   "source": [
    "infile = \"result_1850_1900.csv\"\n",
    "list_of_lists = oa2801_lab4.read_file(infile)[5:] # [5:] --> skips the first 5 lines"
   ]
  },
  {
   "cell_type": "code",
   "execution_count": 3,
   "metadata": {},
   "outputs": [],
   "source": [
    "def process_data(list_of_lists,start_year,end_year): # New function\n",
    "#This is for 4.b The total iron and steel was added to this part of the code. \n",
    "#I know this code works\n",
    "#This is for 4.b The total iron and steel was added to this part of the code. \n",
    "#I know this code works\n",
    "    if end_year < start_year:\n",
    "        print('The start year is greater than end year.')\n",
    "    else:\n",
    "        output_list = []\n",
    "        while start_year <= end_year:  \n",
    "            expenditure_list = []\n",
    "            iron_and_steel_list = []\n",
    "            row = 1 # I had to skip the header row to get actual values\n",
    "            CINC = 0.0 # I had to make this initialize with everything else so it kepy count\n",
    "            country = '' # I had to make this initialize with everything else so it kepy count\n",
    "\n",
    "            while row < len(list_of_lists):\n",
    "                #print(list_of_lists[row][2])\n",
    "                year = int(list_of_lists[row][2])\n",
    "                if year == start_year:    \n",
    "                    #print('This part works and i can see all years %s' %list_of_lists[row][2] ) \n",
    "\n",
    "                    if list_of_lists[row][4] != '-9': #Do i want to check all countries later\n",
    "                        expenditure_list.append(int(list_of_lists[row][4]))\n",
    "                        iron_and_steel_list.append(int(list_of_lists[row][3]))\n",
    "\n",
    "                    if float(list_of_lists[row][9]) >  CINC:\n",
    "                        CINC = float(list_of_lists[row][9])\n",
    "                        country = list_of_lists[row][0]\n",
    "\n",
    "\n",
    "\n",
    "                row += 1\n",
    "            output_list.append([start_year, sum(expenditure_list), sum(iron_and_steel_list), CINC, country])        \n",
    "            start_year += 1\n",
    "        title = ['Start Year','Expenditure List', 'Iron and Steel List', 'CINC',  'County']\n",
    "        return     print(tabulate(output_list, headers = title, tablefmt = 'grid')) # pretty printing \n"
   ]
  },
  {
   "cell_type": "code",
   "execution_count": 4,
   "metadata": {},
   "outputs": [
    {
     "name": "stdout",
     "output_type": "stream",
     "text": [
      "+--------------+--------------------+-----------------------+----------+----------+\n",
      "|   Start Year |   Expenditure List |   Iron and Steel List |     CINC | County   |\n",
      "+==============+====================+=======================+==========+==========+\n",
      "|         1850 |              79609 |                  4247 | 0.304171 | UKG      |\n",
      "+--------------+--------------------+-----------------------+----------+----------+\n",
      "|         1851 |              77198 |                  4533 | 0.305494 | UKG      |\n",
      "+--------------+--------------------+-----------------------+----------+----------+\n",
      "|         1852 |              78502 |                  4924 | 0.298614 | UKG      |\n",
      "+--------------+--------------------+-----------------------+----------+----------+\n",
      "|         1853 |              82164 |                  5596 | 0.287432 | UKG      |\n",
      "+--------------+--------------------+-----------------------+----------+----------+\n",
      "|         1854 |             181795 |                  5925 | 0.336089 | UKG      |\n",
      "+--------------+--------------------+-----------------------+----------+----------+\n",
      "|         1855 |             168661 |                  6289 | 0.29753  | UKG      |\n",
      "+--------------+--------------------+-----------------------+----------+----------+\n",
      "|         1856 |             149531 |                  7063 | 0.2957   | UKG      |\n",
      "+--------------+--------------------+-----------------------+----------+----------+\n",
      "|         1857 |             103061 |                  7086 | 0.290049 | UKG      |\n",
      "+--------------+--------------------+-----------------------+----------+----------+\n",
      "|         1858 |             102112 |                  6829 | 0.289561 | UKG      |\n",
      "+--------------+--------------------+-----------------------+----------+----------+\n",
      "|         1859 |             137368 |                  7156 | 0.290498 | UKG      |\n",
      "+--------------+--------------------+-----------------------+----------+----------+\n",
      "|         1860 |             127623 |                  7430 | 0.276446 | UKG      |\n",
      "+--------------+--------------------+-----------------------+----------+----------+\n"
     ]
    }
   ],
   "source": [
    "process_data(list_of_lists,1850,1860)"
   ]
  },
  {
   "cell_type": "code",
   "execution_count": 5,
   "metadata": {},
   "outputs": [
    {
     "name": "stdout",
     "output_type": "stream",
     "text": [
      "+--------------+--------------------+-----------------------+----------+----------+\n",
      "|   Start Year |   Expenditure List |   Iron and Steel List |     CINC | County   |\n",
      "+==============+====================+=======================+==========+==========+\n",
      "|         1990 |          837505964 |                802873 | 0.140959 | USA      |\n",
      "+--------------+--------------------+-----------------------+----------+----------+\n",
      "|         1991 |          829532611 |                722836 | 0.136481 | USA      |\n",
      "+--------------+--------------------+-----------------------+----------+----------+\n",
      "|         1992 |          761368050 |                713500 | 0.150244 | USA      |\n",
      "+--------------+--------------------+-----------------------+----------+----------+\n"
     ]
    }
   ],
   "source": [
    "process_data(list_of_lists,1990,1992)"
   ]
  }
 ],
 "metadata": {
  "kernelspec": {
   "display_name": "Python 3",
   "language": "python",
   "name": "python3"
  },
  "language_info": {
   "codemirror_mode": {
    "name": "ipython",
    "version": 3
   },
   "file_extension": ".py",
   "mimetype": "text/x-python",
   "name": "python",
   "nbconvert_exporter": "python",
   "pygments_lexer": "ipython3",
   "version": "3.7.11"
  }
 },
 "nbformat": 4,
 "nbformat_minor": 2
}
