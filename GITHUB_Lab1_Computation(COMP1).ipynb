{
 "cells": [
  {
   "cell_type": "markdown",
   "metadata": {},
   "source": [
    "## <center>Lab 1: Computation of Great Circle Distance</center>\n",
    "\n",
    "<img src = \"GreatCircle.png\">\n",
    "\n",
    "In this first graded lab session, our objective is to practice using Python as a powerful calculator for solving practical problems.  You will practice:\n",
    "\n",
    "* Writing mathematical **expressions**\n",
    "\n",
    "* Writing and using **functions** to solve problems\n",
    "\n",
    "**Before You Start:** Make sure that you can open, run, and save a Jupyter Notebook. If you have any problems, please see the instructor."
   ]
  },
  {
   "cell_type": "markdown",
   "metadata": {},
   "source": [
    "### The Scenario\n",
    "\n",
    "You have graduated from NPS and are now working as an analyst doing logistics support to fielded units. In this role, you have a recurring need to calculate distances between logistics hubs and units in need of supplies. This task requires repeated calculation of *great circle distances*.\n",
    "\n",
    "A brief web search on great circle navigation uncovers a spectacular reference on the mathematics and helpful formulae for your work titled Aviation Formulary V1.46 (provided as a pdf attachment).\n",
    "\n",
    "You have decided to use the information contained on this document as a basis for building some simple\n",
    "calculator programs in Python that will help you with your project."
   ]
  },
  {
   "cell_type": "markdown",
   "metadata": {},
   "source": [
    "### The Data\n",
    "\n",
    "You have been given a sequence of coordinates representing different stops along a multi- stop route. The coordinates are given in latitude and longitude (measured in *degrees*), and have the following form:\n",
    "\n",
    "$37^{\\circ} 37' 8''$  $122^{\\circ} 22' 29''$\n",
    "\n",
    "...where positive latitude is defined to be north (negative is south) and positive longitude is defined to\n",
    "be West (negative is East). So the above coordinate represents $37^{\\circ} 37' 8''$ N and $122^{\\circ} 22' 29''$ W.  Note that as the provided reference states,  \"For the convenience of North Americans I will take North latitudes and West longitudes as positive and South and East negative. **The longitude is the opposite of the usual mathematical convention.**\" \n",
    "\n",
    "The coordinates of interest are provided in Lab 1 Results Worksheet (Lab_1_Results.doc)."
   ]
  },
  {
   "cell_type": "markdown",
   "metadata": {
    "collapsed": true
   },
   "source": [
    "### Your Task\n",
    "\n",
    "For successive pairs of latitude-longitude coordinates (i.e., C1 to C2 in the provided worksheet), you need to calculate the great circle distance between the two points (measured in *nautical miles*).\n",
    "\n",
    "The formula for great circle distance is readily obtained from the Aviation Formulary (pdf attachment) referenced above. **Note, however that the formulas take input data in *radians*. Moreover, the distance value produced by that formula is also in *radians*.**\n",
    "\n",
    "Therefore, the overall task must be broken down into several smaller tasks:\n",
    "\n",
    "* You must convert the (degree, minute, second) values to decimal representation\n",
    "\n",
    "* You must convert your decimal degrees into radians to use the formula provided in the reference above\n",
    "\n",
    "* You must calculate the distance between two points (in radians)\n",
    "\n",
    "* You must convert the distance in radians provided by the great circle distance formula back into nautical miles"
   ]
  },
  {
   "cell_type": "markdown",
   "metadata": {
    "collapsed": true
   },
   "source": [
    "### Task 1:  \n",
    "\n",
    "Convert a single (degree, minute, second) value into its corresponding *decimal* representation. For example, the value (37 , 37, 8) is equivalent to 37.6188888889 degrees. Write a function in python called **dms_to_decimal** to do this for a single (degree, minute, second) value. What data type will the output of this function be? How will you know if it works?\n",
    "\n",
    "Once this function is working, use it to fill in the missing values in part 1 of the Lab 1 Results Worksheet."
   ]
  },
  {
   "cell_type": "code",
   "execution_count": 3,
   "metadata": {},
   "outputs": [
    {
     "name": "stdout",
     "output_type": "stream",
     "text": [
      " Decimal Degrees to DMS Format: (degree, minute, second) \n"
     ]
    }
   ],
   "source": [
    "# Your code for Task 1 goes here (you may need to add additional code blocks by using \"Insert\" on the toolbar)\n",
    "\n",
    "# Decimal Degrees to DMS\n",
    "import math as m\n",
    "from tabulate import tabulate  # fancy print statements \n",
    "print(' Decimal Degrees to DMS' + ' Format: (degree, minute, second) ')\n",
    "def dms_to_decimal(a,b,c):\n",
    "    ans = a + (b/60) + (c/3600)   \n",
    "    return round(ans,3)\n",
    "\n",
    "    # Questions\n",
    "# What data type will the output of this function be? I used the (37, 37, 8) and got 37.61888889.\n",
    "# How will you know if it works? I know my code works because i tested it against a known coordinate. \n",
    " \n"
   ]
  },
  {
   "cell_type": "code",
   "execution_count": 8,
   "metadata": {},
   "outputs": [
    {
     "data": {
      "text/plain": [
       "(37.619, 122.375, 41.979, 87.904)"
      ]
     },
     "execution_count": 8,
     "metadata": {},
     "output_type": "execute_result"
    }
   ],
   "source": [
    "a = dms_to_decimal(37,37,8)\n",
    "b = dms_to_decimal(122,22,29)\n",
    "c = dms_to_decimal(41,58,46)\n",
    "d = dms_to_decimal(87,54,16)\n",
    "a,b,c,d"
   ]
  },
  {
   "cell_type": "markdown",
   "metadata": {},
   "source": [
    "### Task 2\n",
    "\n",
    "You need to convert a coordinate from its decimal representation in *degrees* to a corresponding value in *radians*. Write a python function called **deg2rad** that does this for a single coordinate. How many input parameters will there be for this function? What, if anything, will the function return? How will you validate that it works? How will you use this function?  A formula for this conversion is provided on pp. 2 of your reference."
   ]
  },
  {
   "cell_type": "code",
   "execution_count": 15,
   "metadata": {},
   "outputs": [],
   "source": [
    "# Your code for Task 2 goes here (you may need to add additional code blocks by using \"Insert\" on the toolbar)\n",
    "def deg2rad(angle_degrees):\n",
    "    angle_radians = (m.pi/180) * angle_degrees\n",
    "\n",
    "    \n",
    "    return round(angle_radians,5)\n",
    "    # Questions\n",
    "# How many input parameters will there be for this function? one input parameter   \n",
    "# What, if anything, will the function return? The function should return my answer in rads\n",
    "# How will you validate that it works? I used google to validate 37.62 and got 0.65659\n",
    "# How will you use this function? I will use it in conjunction with task 1 to get my answers in rads so i can concert into nm for task 3."
   ]
  },
  {
   "cell_type": "code",
   "execution_count": 16,
   "metadata": {},
   "outputs": [
    {
     "data": {
      "text/plain": [
       "(0.65658, 2.13585, 0.73267, 1.53421)"
      ]
     },
     "execution_count": 16,
     "metadata": {},
     "output_type": "execute_result"
    }
   ],
   "source": [
    "a_rads = deg2rad(a)\n",
    "b_rads = deg2rad(b)\n",
    "c_rads = deg2rad(c)\n",
    "d_rads = deg2rad(d)\n",
    "a_rads, b_rads, c_rads, d_rads"
   ]
  },
  {
   "cell_type": "markdown",
   "metadata": {},
   "source": [
    "### Task 3 \n",
    "\n",
    "You will need to convert a distance in radians back to nautical miles. Write a python function named **rad2nm** to do this. How many input parameters will there be for this function? What, if anything, will the function return? How will you validate that it works? How will you use this function?  A formula for this conversion is provided on pp. 2 of your reference."
   ]
  },
  {
   "cell_type": "code",
   "execution_count": 17,
   "metadata": {},
   "outputs": [],
   "source": [
    "def rad2nm(distance_radians): # Convert distance in rads to nautical miles \n",
    "    distance_nm = ( distance_radians*( (180 * 60)/m.pi) ) \n",
    "    return distance_nm # How do i get the answer to round to a certain value"
   ]
  },
  {
   "cell_type": "code",
   "execution_count": 18,
   "metadata": {},
   "outputs": [
    {
     "data": {
      "text/plain": [
       "1599.3375308859745"
      ]
     },
     "execution_count": 18,
     "metadata": {},
     "output_type": "execute_result"
    }
   ],
   "source": [
    "rad2nm(0.4652284294112793)"
   ]
  },
  {
   "cell_type": "markdown",
   "metadata": {},
   "source": [
    "### Task 4"
   ]
  },
  {
   "cell_type": "markdown",
   "metadata": {},
   "source": [
    "Finally, you need to calculate the distance between two lat-lon pairs of coordinates. Write a function called **calc_distance** that implements the distance formula in the provided reference. **Your function should take four inputs (lat1, lon1, lat2, lon2), which are assumed to be in *degrees*, and return a distance in *nautical miles*.** However, note that the distance formula in your reference (pp. 3) has inputs and outputs that are in radians—how will you deal with this (see Tasks 1-3)?"
   ]
  },
  {
   "cell_type": "code",
   "execution_count": 12,
   "metadata": {},
   "outputs": [],
   "source": [
    "# Your code for Task 4 goes here (you may need to add additional code blocks by using \"Insert\" on the toolbar)\n",
    "def calc_distance(lat1, lon1, lat2, lon2): \n",
    "    # d = ( m.acos(m.sin(lat1)) * m.sin(lat2)  + (m.cos(lat1) * m.cos(lat2) * m.cos(lon1-lon2)) )  #Long Distances\n",
    "    d = 2 * m.asin(m.sqrt((m.sin((lat1-lat2)/2))**2 +  m.cos(lat1) * m.cos(lat2)*(m.sin((lon1-lon2)/2))**2)) #Short Distances\n",
    "\n",
    "    #print ( str(float(d)) + ' radians ') # the distance formula is in radians. I need to use task 3 to change into nm\n",
    "    return d \n",
    "    \n"
   ]
  },
  {
   "cell_type": "markdown",
   "metadata": {
    "collapsed": true
   },
   "source": [
    "### Task 5\n",
    "\n",
    "Test the functionality of your code. The great circle distance between $(33^{\\circ} 57' 0''N$, $118^{\\circ} 24' 0''W)$ and $(40^{\\circ} 38' 0''N, 73^{\\circ} 47' 0''W)$ is 2143.7261 nautical miles."
   ]
  },
  {
   "cell_type": "code",
   "execution_count": 19,
   "metadata": {
    "scrolled": true
   },
   "outputs": [
    {
     "data": {
      "text/plain": [
       "0.4652414997079121"
      ]
     },
     "execution_count": 19,
     "metadata": {},
     "output_type": "execute_result"
    }
   ],
   "source": [
    "# Your code for Task 5 goes here (you may need to add additional code blocks by using \"Insert\" on the toolbar)\n",
    "calc_distance(a_rads, b_rads, c_rads, d_rads)"
   ]
  },
  {
   "cell_type": "markdown",
   "metadata": {},
   "source": [
    "### Task 6\n",
    "\n",
    "Calculate the great circle distances between successive pairs of coordinates. \n",
    "\n",
    "Hint: consider creating variables c1lat, c1lon, c2lat, c2lon, . . . , c9lat, c9lon to hold the corresponding values, so that you can manipulate them as needed during these calculations.  You can then use these variables as the **arguments** for the **parameters** you have defined in your functions above.  \n",
    "\n",
    "Use the code you have developed above to complete part 2 in the Lab_1_Results.doc file.  \n",
    "\n",
    "**NOTE:** Based on what you have learned so far, there is no way to completely automate the process of filling in the worksheet. You will need to generate the answers one at a time in the Jupyter notebook and then cut-and-paste them into the worksheet. **DO NOT** handwrite your answers in the worksheet. (Later on, we will learn how to process an entire batch of input coordinates in this way, but that is further in the course. Be patient!)"
   ]
  },
  {
   "cell_type": "code",
   "execution_count": 20,
   "metadata": {},
   "outputs": [
    {
     "name": "stdout",
     "output_type": "stream",
     "text": [
      "Distance from C1 to C2 3643.929087nm\n"
     ]
    }
   ],
   "source": [
    "'''Distance from C1 to C2'''\n",
    "c1lat = dms_to_decimal(37,37,8)\n",
    "c1lon = dms_to_decimal(122,22,29)\n",
    "\n",
    "c2lat = dms_to_decimal(41,58,46)\n",
    "c2lon = dms_to_decimal(87,54,16)\n",
    "\n",
    "calc_distance_c1_c2 = calc_distance(c1lat,c1lon,c2lat,c2lon)\n",
    "print('Distance from C1 to C2 %fnm' % rad2nm(calc_distance_c1_c2))"
   ]
  },
  {
   "cell_type": "code",
   "execution_count": 21,
   "metadata": {},
   "outputs": [
    {
     "name": "stdout",
     "output_type": "stream",
     "text": [
      "=============  ===========\n",
      "Coordinates      Distances\n",
      "=============  ===========\n",
      "C1_C2              3643.93\n",
      "C2_C3              6008.23\n",
      "C3_C4              6247.62\n",
      "C4_C5              9831.74\n",
      "C5_C6              2893.31\n",
      "C6_C7              2630.92\n",
      "C7_C8              8444.37\n",
      "C8_C9              3286.13\n",
      "=============  ===========\n"
     ]
    }
   ],
   "source": [
    "# Your code for Task 6 goes here (you may need to add additional code blocks by using \"Insert\" on the toolbar)\n",
    "\n",
    "'''Distance from C1 to C2'''\n",
    "c1lat = dms_to_decimal(37,37,8)\n",
    "c1lon = dms_to_decimal(122,22,29)\n",
    "\n",
    "c2lat = dms_to_decimal(41,58,46)\n",
    "c2lon = dms_to_decimal(87,54,16)\n",
    "\n",
    "calc_distance_c1_c2 = calc_distance(c1lat,c1lon,c2lat,c2lon)\n",
    "# print('Distance from C1 to C2 %.2fnm' % rad2nm(calc_distance_c1_c2))\n",
    "\n",
    "'''Distance from C2 to C3'''\n",
    "c2lat = dms_to_decimal(41,58,46)\n",
    "c2lon = dms_to_decimal(87,54,16)\n",
    "\n",
    "c3lat = dms_to_decimal(40,38,23)\n",
    "c3lon = dms_to_decimal(73,46,44)\n",
    "\n",
    "calc_distance_c2_c3 = calc_distance(c2lat,c2lon,c3lat,c3lon)\n",
    "# print('Distance from C2 to C3 %.2fnm' % rad2nm(calc_distance_c2_c3))\n",
    "\n",
    "'''Distance from C3 to C4'''\n",
    "c3lat = dms_to_decimal(40,38,23)\n",
    "c3lon = dms_to_decimal(73,46,44)\n",
    "\n",
    "c4lat = dms_to_decimal(36,4,29)\n",
    "c4lon = dms_to_decimal(115,9,8)\n",
    "\n",
    "calc_distance_c3_c4 = calc_distance(c3lat,c3lon,c4lat,c4lon)\n",
    "# print('Distance from C3 to C4 %.2fnm' % rad2nm(calc_distance_c3_c4))\n",
    "\n",
    "'''Distance from C4 to C5'''\n",
    "c4lat = dms_to_decimal(36,4,29)\n",
    "c4lon = dms_to_decimal(115,9,8)\n",
    "\n",
    "c5lat = dms_to_decimal(32,44,0)\n",
    "c5lon = dms_to_decimal(117, 11,22)\n",
    "\n",
    "calc_distance_c4_c5 = calc_distance(c4lat,c4lon,c5lat,c5lon)\n",
    "# print('Distance from C4 to C5 %.2fnm' %rad2nm(calc_distance_c4_c5))\n",
    "\n",
    "'''Distance from C5 to C6'''\n",
    "c5lat = dms_to_decimal(32,44,0)\n",
    "c5lon = dms_to_decimal(117, 11,22)\n",
    "\n",
    "c6lat = dms_to_decimal(39,51,30)\n",
    "c6lon = dms_to_decimal(104,40,1)\n",
    "\n",
    "calc_distance_c5_c6 = calc_distance(c5lat,c5lon,c6lat,c6lon)\n",
    "# print('Distance from C5 to C6 %.2fnm' % rad2nm(calc_distance_c5_c6))\n",
    "\n",
    "'''Distance from C6 to C7'''\n",
    "c6lat = dms_to_decimal(39,51,30)\n",
    "c6lon = dms_to_decimal(104,40,1)\n",
    "\n",
    "c7lat = dms_to_decimal(33,38,25)\n",
    "c7lon = dms_to_decimal(84,25,37)\n",
    "\n",
    "calc_distance_c6_c7 = calc_distance(c6lat,c6lon,c7lat,c7lon)\n",
    "# print('Distance from C6 to C7 %.2fnm' % rad2nm(calc_distance_c6_c7))\n",
    "\n",
    "'''Distance from C7 to C8'''\n",
    "c7lat = dms_to_decimal(33,38,25)\n",
    "c7lon = dms_to_decimal(84,25,37)\n",
    "\n",
    "c8lat = dms_to_decimal(42,21,51)\n",
    "c8lon = dms_to_decimal(71,0,18)\n",
    "\n",
    "calc_distance_c7_c8 = calc_distance(c7lat,c7lon,c8lat,c8lon)\n",
    "# print('Distance from C7 to C8 %.2fnm' % rad2nm(calc_distance_c7_c8))\n",
    "\n",
    "\n",
    "'''Distance from C8 to C9'''\n",
    "c8lat = dms_to_decimal(42,21,51)\n",
    "c8lon = dms_to_decimal(71,0,18)\n",
    "\n",
    "c9lat = dms_to_decimal(35,12,50)\n",
    "c9lon = dms_to_decimal(80,56,35)\n",
    "\n",
    "calc_distance_c8_c9 = calc_distance(c8lat,c8lon,c9lat,c9lon)\n",
    "# print('Distance from C8 to C9 %.2fnm' % rad2nm(calc_distance_c8_c9))\n",
    "\n",
    "\n",
    "\n",
    "\n",
    "#Fancy print statement \n",
    "str_distances = [['C1_C2',rad2nm(calc_distance_c1_c2)],['C2_C3',rad2nm(calc_distance_c2_c3)],['C3_C4',rad2nm(calc_distance_c3_c4)],['C4_C5',rad2nm(calc_distance_c4_c5)],['C5_C6',rad2nm(calc_distance_c5_c6)],['C6_C7',rad2nm(calc_distance_c6_c7)],['C7_C8',rad2nm(calc_distance_c7_c8)],['C8_C9',rad2nm(calc_distance_c8_c9)]]\n",
    "str_headers = ['Coordinates', 'Distances']\n",
    "len(str_distances)\n",
    "print(tabulate(str_distances,headers = str_headers,tablefmt = 'rst',floatfmt=\".2f\"))\n",
    "\n"
   ]
  }
 ],
 "metadata": {
  "anaconda-cloud": {},
  "kernelspec": {
   "display_name": "Python 3",
   "language": "python",
   "name": "python3"
  },
  "language_info": {
   "codemirror_mode": {
    "name": "ipython",
    "version": 3
   },
   "file_extension": ".py",
   "mimetype": "text/x-python",
   "name": "python",
   "nbconvert_exporter": "python",
   "pygments_lexer": "ipython3",
   "version": "3.7.11"
  }
 },
 "nbformat": 4,
 "nbformat_minor": 1
}
