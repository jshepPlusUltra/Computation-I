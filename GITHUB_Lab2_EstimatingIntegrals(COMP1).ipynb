{
 "cells": [
  {
   "cell_type": "markdown",
   "metadata": {},
   "source": [
    "## <center>Lab 2: Estimating Integrals</center>\n",
    "\n",
    "<center><img src = \"Integration.png\" height = \"300\", width = \"300\"></center>\n",
    "\n",
    "In this graded lab session, our objective is to implement **algorithms** for performing numerical integration.  You will practice:\n",
    "\n",
    "* Writing mathematical **expressions**\n",
    "\n",
    "* Writing and using **functions** to solve problems\n",
    "\n",
    "* Writing and using **selection flow control** (conditional execution statements)\n",
    "\n",
    "* Writing and using **iteration flow control** (**while**/for loops)\n",
    "\n",
    "**Before You Start:** Make sure that you can open, run, and save a Jupyter Notebook. If you have any problems, please see the instructor."
   ]
  },
  {
   "cell_type": "markdown",
   "metadata": {},
   "source": [
    "### Task 1\n",
    "\n",
    "Review the class materials on numerical integration.  You have been provided three handouts/supplements to support this lab:\n",
    "\n",
    "*  **IntegrationReference.pdf:** this excerpt from *Calculus and Analytic Geometry* by Sherman Stein provides an explanation of the iterative algorithms we will use to conduct numerical integration.\n",
    "\n",
    "\n",
    "* **IntegrationPseudocode.pdf:** this document provides *pseudo code* for implementing the algorithms discussed by Stein (which you should find very helpful).\n",
    "\n",
    "\n",
    "* **IntegrationSolutions.pdf:**  this document provides closed form solutions to the numerical integrations you will perform  \n",
    "\n",
    "\n",
    "* *NOTE:* **Lab_2_Results.doc** will serve as a worksheet to formally capture your specific results for each task stipulated in this notebook. You will submit both your modified Jupyter notebook AND the results worksheet as described at the end of this notebook."
   ]
  },
  {
   "cell_type": "markdown",
   "metadata": {
    "collapsed": true
   },
   "source": [
    "### Task 2\n",
    "\n",
    "Review the organization of this notebook (read the entire notebook before you do anything else). This file contains four predefined functions for  your use: \n",
    "\n",
    "* ```f0(x)```\n",
    "* ```f1(x)``` \n",
    "* ```f2(x)```\n",
    "* ```print result()```\n",
    "\n",
    "These functions should NOT be modified. Make sure you understand what they do, and use them as provided."
   ]
  },
  {
   "cell_type": "markdown",
   "metadata": {
    "collapsed": true
   },
   "source": [
    "#### Predefined Functions (Do Not Modify)"
   ]
  },
  {
   "cell_type": "markdown",
   "metadata": {},
   "source": [
    "First, import the math library so that you can use predefined functions (such as math.pi and math.log)."
   ]
  },
  {
   "cell_type": "code",
   "execution_count": 1,
   "metadata": {},
   "outputs": [],
   "source": [
    "# we put import functions at the beginning\n",
    "import math  \n",
    "from tabulate import tabulate \n"
   ]
  },
  {
   "cell_type": "markdown",
   "metadata": {},
   "source": [
    "The three functions below are the functions we will perform numerical integration on in this lab.  "
   ]
  },
  {
   "cell_type": "code",
   "execution_count": 2,
   "metadata": {},
   "outputs": [],
   "source": [
    "# the example function integrated in calculus excerpt by Stein pp.370-372\n",
    "# do NOT change this function\n",
    "def f0(x):\n",
    "    return 1.0/(1.0 + x*x)"
   ]
  },
  {
   "cell_type": "code",
   "execution_count": 3,
   "metadata": {},
   "outputs": [],
   "source": [
    "# the function to integrate for Question 1\n",
    "# do NOT change this function\n",
    "def f1(x):\n",
    "    return 1.0/math.sqrt(x*x-9.0)"
   ]
  },
  {
   "cell_type": "code",
   "execution_count": 4,
   "metadata": {},
   "outputs": [],
   "source": [
    "# the function to integrate for Question 2\n",
    "# do NOT change this function\n",
    "def f2(x):\n",
    "    return (1.0/math.sqrt(2*math.pi))*math.exp(-math.pow(x,2)/2)"
   ]
  },
  {
   "cell_type": "markdown",
   "metadata": {
    "collapsed": true
   },
   "source": [
    "We also need a means of computing the error for each of our estimates. The function below provides a standard format for printing out results.  You will use this function to report your results."
   ]
  },
  {
   "cell_type": "code",
   "execution_count": 5,
   "metadata": {},
   "outputs": [],
   "source": [
    "# Note: Do NOT change this function.\n",
    "def print_result(n,estimate,answer):\n",
    "    '''This function formats a standard print statement to use.\n",
    "       n          is the number of subintervals\n",
    "       estimate   is the estimate of the integral\n",
    "       answer     is the correct answer\n",
    "    '''\n",
    "    error = math.fabs(estimate - answer)\n",
    "    print(\"Subintervals: %4d,  Estimate: %f,  Error: %f\" % (n,estimate,error))\n",
    "# end of function print_result"
   ]
  },
  {
   "cell_type": "code",
   "execution_count": 6,
   "metadata": {
    "scrolled": true
   },
   "outputs": [
    {
     "name": "stdout",
     "output_type": "stream",
     "text": [
      "Subintervals:   10,  Estimate: 99.500000,  Error: 0.500000\n"
     ]
    }
   ],
   "source": [
    "# Let's see how this function works.\n",
    "# suppose using 10 intervals we estimated a value of 99.5 when the real answer was 100.0\n",
    "print_result(10,99.5,100.0)"
   ]
  },
  {
   "cell_type": "markdown",
   "metadata": {},
   "source": [
    "#### We will use this function to print out the results of our integral estimates below."
   ]
  },
  {
   "cell_type": "markdown",
   "metadata": {
    "collapsed": true
   },
   "source": [
    "### Task 3 (Graded)\n",
    "\n",
    "This file also contains three additional functions that you will be expected to modify:\n",
    "\n",
    "* ```rectangular(f, a, b, n)```\n",
    "* ```trapezoidal(f, a, b, n)``` \n",
    "* ```simpsons(f, a, b, n)```\n",
    "\n",
    "These functions all use the same four parameters:\n",
    "\n",
    "1. the name of the function to integrate, denoted f\n",
    "2. the lower limit of integration, denoted a\n",
    "3. the upper limit of integration, denoted b, and\n",
    "4. the number of subintervals to be used in the estimate, denoted n.\n",
    "\n",
    "Modify these functions to implement the algorithms specified in the handouts and test them. How will you validate that they are working properly?\n",
    "\n",
    "#### Numerical Integration Functions (Modify These Functions in Place)"
   ]
  },
  {
   "cell_type": "markdown",
   "metadata": {},
   "source": [
    "##### Rectangular Method"
   ]
  },
  {
   "cell_type": "code",
   "execution_count": 16,
   "metadata": {},
   "outputs": [],
   "source": [
    "def rectangular(f, a, b, n):\n",
    "    '''This function estimates an integral using the common \"rectangular\" method:\n",
    "       f      is the function to integrate\n",
    "       a, b   are the limits of integration\n",
    "       n      is the number of subintervals\n",
    "    '''\n",
    "    h = (b-a)/n # this is my width \n",
    "    sum1 = 0.0\n",
    "    i = 1\n",
    "    while i <=  n: \n",
    "        x = a + i*h\n",
    "        sum1 += f(x) #f(x) is my output  \n",
    "        i += 1\n",
    "    return round(h * sum1,4)  # your code goes here in place of this dummy statement\n",
    "# end of rectangular"
   ]
  },
  {
   "cell_type": "code",
   "execution_count": 17,
   "metadata": {},
   "outputs": [
    {
     "data": {
      "text/plain": [
       "0.3032"
      ]
     },
     "execution_count": 17,
     "metadata": {},
     "output_type": "execute_result"
    }
   ],
   "source": [
    "rectangular(f1, 4, 5, 1000)"
   ]
  },
  {
   "cell_type": "markdown",
   "metadata": {
    "collapsed": true
   },
   "source": [
    "#### Trapezoidal Method"
   ]
  },
  {
   "cell_type": "code",
   "execution_count": 18,
   "metadata": {},
   "outputs": [],
   "source": [
    "def trapezoidal(f, a, b, n):\n",
    "    '''This function estimates an integral using the \"trapezoidal\" method:\n",
    "       f      is the function to integrate\n",
    "       a, b   are the limits of integration\n",
    "       n      is the number of subintervals\n",
    "    '''\n",
    "    h = (b-a)/n\n",
    "    sum2 = 0.0\n",
    "    i = 0\n",
    "    while i <= n:\n",
    "        x = a + i*h\n",
    "        if i == 0 or i ==n:\n",
    "            sum2 += f(x) # Why is it not enough to just have 'f' as per the original argument\n",
    "        else: \n",
    "            sum2 += 2*f(x)\n",
    "        i += 1\n",
    "    return round((h/2)*sum2,4) # your code goes here in place of this dummy statement\n",
    "\n",
    "# end of trapezoidal"
   ]
  },
  {
   "cell_type": "code",
   "execution_count": 19,
   "metadata": {},
   "outputs": [
    {
     "data": {
      "text/plain": [
       "0.3032"
      ]
     },
     "execution_count": 19,
     "metadata": {},
     "output_type": "execute_result"
    }
   ],
   "source": [
    "trapezoidal(f1,4,5,1000)"
   ]
  },
  {
   "cell_type": "markdown",
   "metadata": {},
   "source": [
    "#### Simpson's Method"
   ]
  },
  {
   "cell_type": "code",
   "execution_count": 20,
   "metadata": {},
   "outputs": [],
   "source": [
    "def simpsons(f, a, b, n):\n",
    "    '''This function estimates an integral using \"simpsons\" method:\n",
    "       f      is the function to integrate\n",
    "       a, b   are the limits of integration\n",
    "       n      is the number of subintervals\n",
    "    '''\n",
    "    h = (b-a)/n\n",
    "    sum3 = 0\n",
    "    i = 0\n",
    "    while i <= n:\n",
    "        x = a + i*h\n",
    "        if i == 0 or  i == n:\n",
    "            sum3 += f(x)\n",
    "        elif (i%2 == 0):\n",
    "            sum3 += 2*f(x)\n",
    "        else:\n",
    "            sum3 += 4*f(x)\n",
    "        i += 1\n",
    "    return round((h/3) *sum3,4) # your code goes here in place of this dummy statement\n",
    "    \n",
    "# end of simpsons"
   ]
  },
  {
   "cell_type": "code",
   "execution_count": 21,
   "metadata": {},
   "outputs": [
    {
     "data": {
      "text/plain": [
       "0.2999"
      ]
     },
     "execution_count": 21,
     "metadata": {},
     "output_type": "execute_result"
    }
   ],
   "source": [
    "simpsons(f1,4,5,25)"
   ]
  },
  {
   "cell_type": "markdown",
   "metadata": {},
   "source": [
    "### Task 4 (Graded)\n",
    "\n",
    "Use the example provided in the Stein reference and the provided ```f0(x)``` to validate the performance of your numerical integration functions.  The two code blocks below provide the means for testing the performance of your functions:"
   ]
  },
  {
   "cell_type": "code",
   "execution_count": 22,
   "metadata": {},
   "outputs": [],
   "source": [
    "q1_answer = math.pi/4"
   ]
  },
  {
   "cell_type": "code",
   "execution_count": 23,
   "metadata": {},
   "outputs": [
    {
     "name": "stdout",
     "output_type": "stream",
     "text": [
      "Subintervals:    4,  Estimate: 0.720300,  Error: 0.065098\n",
      "Subintervals:    4,  Estimate: 0.782800,  Error: 0.002598\n",
      "Subintervals:    4,  Estimate: 0.785400,  Error: 0.000002\n"
     ]
    }
   ],
   "source": [
    "# note that we can run all our estimates 'at once'...\n",
    "print_result(4,rectangular(f0,0.0,1.0,4),q1_answer)\n",
    "print_result(4,trapezoidal(f0,0.0,1.0,4),q1_answer)\n",
    "print_result(4,simpsons(f0,0.0,1.0,4),q1_answer)"
   ]
  },
  {
   "cell_type": "markdown",
   "metadata": {},
   "source": [
    "### Question 1:  How do you know (or why do you believe) that your functions are working correctly?  Double-click into the text block immediately below to provide an answer."
   ]
  },
  {
   "cell_type": "markdown",
   "metadata": {},
   "source": [
    "I know that my functions work correctly because i integraded the function by hand and got 0.7853981634"
   ]
  },
  {
   "cell_type": "markdown",
   "metadata": {},
   "source": [
    "### Question 2:  . Estimate the integral  \n",
    "\n",
    "$$\\int_{4}^{5} \\frac{1}{\\sqrt{x^2 - 9}} dx$$  \n",
    "\n",
    "### for n of 10, 25, 50, 100,  250, and 1000 using each of the three methods discussed in the lecture.  Use the code blocks below to record your results for each case.  For this integral, the correct answer is: \n",
    "\n",
    "$$ \\ln \\Bigg(  \\frac{9}{4 + \\sqrt{7}} \\Bigg)$$"
   ]
  },
  {
   "cell_type": "markdown",
   "metadata": {},
   "source": [
    "The four code blocks below (when executed) should answer Question \\#2 **provided you have correctly implemented the algorithms above.**"
   ]
  },
  {
   "cell_type": "code",
   "execution_count": 24,
   "metadata": {},
   "outputs": [],
   "source": [
    "q2_answer = math.log(9.0 / (4.0 + math.sqrt(7))) "
   ]
  },
  {
   "cell_type": "code",
   "execution_count": 25,
   "metadata": {},
   "outputs": [
    {
     "data": {
      "text/plain": [
       "0.30324682744420395"
      ]
     },
     "execution_count": 25,
     "metadata": {},
     "output_type": "execute_result"
    }
   ],
   "source": [
    "q2_answer"
   ]
  },
  {
   "cell_type": "code",
   "execution_count": 26,
   "metadata": {},
   "outputs": [
    {
     "name": "stdout",
     "output_type": "stream",
     "text": [
      "Subintervals:   10,  Estimate: 0.297000,  Error: 0.006247\n",
      "Subintervals:   25,  Estimate: 0.300700,  Error: 0.002547\n",
      "Subintervals:   50,  Estimate: 0.302000,  Error: 0.001247\n",
      "Subintervals:  100,  Estimate: 0.302600,  Error: 0.000647\n",
      "Subintervals:  250,  Estimate: 0.303000,  Error: 0.000247\n",
      "Subintervals: 1000,  Estimate: 0.303200,  Error: 0.000047\n"
     ]
    }
   ],
   "source": [
    "# Question 2, rectangular method\n",
    "# here's the function call for n=10\n",
    "print_result(10,rectangular(f1,4.0,5.0,10),q2_answer)\n",
    "print_result(25,rectangular(f1,4.0,5.0,25),q2_answer)\n",
    "print_result(50,rectangular(f1,4.0,5.0,50),q2_answer)\n",
    "print_result(100,rectangular(f1,4.0,5.0,100),q2_answer)\n",
    "print_result(250,rectangular(f1,4.0,5.0,250),q2_answer)\n",
    "print_result(1000,rectangular(f1,4.0,5.0,1000),q2_answer)\n",
    "# include here additional function calls (as appropriate) for n=25, 50, 100, 250, 1000\n"
   ]
  },
  {
   "cell_type": "code",
   "execution_count": 27,
   "metadata": {},
   "outputs": [
    {
     "data": {
      "text/plain": [
       "0.5017709563164109"
      ]
     },
     "execution_count": 27,
     "metadata": {},
     "output_type": "execute_result"
    }
   ],
   "source": [
    "1 / (0.002541 / 0.001275)"
   ]
  },
  {
   "cell_type": "code",
   "execution_count": 28,
   "metadata": {
    "scrolled": true
   },
   "outputs": [
    {
     "name": "stdout",
     "output_type": "stream",
     "text": [
      "Subintervals:   10,  Estimate: 0.303400,  Error: 0.000153\n",
      "Subintervals:   25,  Estimate: 0.303300,  Error: 0.000053\n",
      "Subintervals:   50,  Estimate: 0.303300,  Error: 0.000053\n",
      "Subintervals:  100,  Estimate: 0.303200,  Error: 0.000047\n",
      "Subintervals:  250,  Estimate: 0.303200,  Error: 0.000047\n",
      "Subintervals: 1000,  Estimate: 0.303200,  Error: 0.000047\n"
     ]
    }
   ],
   "source": [
    "# Question 2, trapezoidal method\n",
    "# here's the function call for n=10\n",
    "print_result(10,trapezoidal(f1,4.0,5.0,10),q2_answer)\n",
    "print_result(25,trapezoidal(f1,4.0,5.0,25),q2_answer)\n",
    "print_result(50,trapezoidal(f1,4.0,5.0,50),q2_answer)\n",
    "print_result(100,trapezoidal(f1,4.0,5.0,100),q2_answer)\n",
    "print_result(250,trapezoidal(f1,4.0,5.0,250),q2_answer)\n",
    "print_result(1000,trapezoidal(f1,4.0,5.0,1000),q2_answer)\n",
    "# include here additional function calls (as appropriate) for n=25, 50, 100, 250, 1000\n"
   ]
  },
  {
   "cell_type": "code",
   "execution_count": 29,
   "metadata": {},
   "outputs": [
    {
     "data": {
      "text/plain": [
       "0.2777777777777778"
      ]
     },
     "execution_count": 29,
     "metadata": {},
     "output_type": "execute_result"
    }
   ],
   "source": [
    "(0.000005/0.000018)"
   ]
  },
  {
   "cell_type": "code",
   "execution_count": 30,
   "metadata": {},
   "outputs": [
    {
     "name": "stdout",
     "output_type": "stream",
     "text": [
      "Subintervals:   10,  Estimate: 0.303200,  Error: 0.000047\n",
      "Subintervals:   25,  Estimate: 0.299900,  Error: 0.003347\n",
      "Subintervals:   50,  Estimate: 0.303200,  Error: 0.000047\n",
      "Subintervals:  100,  Estimate: 0.303200,  Error: 0.000047\n",
      "Subintervals:  250,  Estimate: 0.303200,  Error: 0.000047\n",
      "Subintervals: 1000,  Estimate: 0.303200,  Error: 0.000047\n"
     ]
    }
   ],
   "source": [
    "# Question 2, Simpson's method\n",
    "# here's the function call for n=10\n",
    "print_result(10,simpsons(f1,4.0,5.0,10),q2_answer)\n",
    "print_result(25,simpsons(f1,4.0,5.0,25),q2_answer)\n",
    "print_result(50,simpsons(f1,4.0,5.0,50),q2_answer)\n",
    "print_result(100,simpsons(f1,4.0,5.0,100),q2_answer)\n",
    "print_result(250,simpsons(f1,4.0,5.0,250),q2_answer)\n",
    "print_result(1000,simpsons(f1,4.0,5.0,1000),q2_answer)\n",
    "# include here additional function calls (as appropriate) for n=25, 50, 100, 250, 1000\n"
   ]
  },
  {
   "cell_type": "markdown",
   "metadata": {},
   "source": [
    "### Question 3:  Estimate the integral\n",
    "\n",
    "$$ \\int_{0}^{2.5} \\frac{1}{\\sqrt{2 \\pi}} e^{-z^2/2} dz$$\n",
    "\n",
    "### for the following values of n for n of 10, 25, 50, 100,  250, and 1000  using each of the three methods discussed in lecture.  For each case, also record the absolute errors in your computation. For this integral, the correct answer is: 0.493790335."
   ]
  },
  {
   "cell_type": "markdown",
   "metadata": {
    "collapsed": true
   },
   "source": [
    "The four code blocks below (when executed) should answer Question \\#3 **provided you have correctly implemented the algorithms above.**"
   ]
  },
  {
   "cell_type": "code",
   "execution_count": 34,
   "metadata": {},
   "outputs": [],
   "source": [
    "q3_answer = 0.493790335  # taken from lookup table - see solutions handout"
   ]
  },
  {
   "cell_type": "code",
   "execution_count": 35,
   "metadata": {},
   "outputs": [
    {
     "name": "stdout",
     "output_type": "stream",
     "text": [
      "Subintervals:   10,  Estimate: 0.445900,  Error: 0.047890\n",
      "Subintervals:   25,  Estimate: 0.474700,  Error: 0.019090\n",
      "Subintervals:   50,  Estimate: 0.484200,  Error: 0.009590\n",
      "Subintervals:  100,  Estimate: 0.489000,  Error: 0.004790\n",
      "Subintervals:  250,  Estimate: 0.491900,  Error: 0.001890\n",
      "Subintervals: 1000,  Estimate: 0.493300,  Error: 0.000490\n"
     ]
    }
   ],
   "source": [
    "# Question 3, rectangular method\n",
    "# here's the function call for n=10\n",
    "print_result(10,rectangular(f2,0,2.5,10),q3_answer)\n",
    "print_result(25,rectangular(f2,0,2.5,25),q3_answer)\n",
    "print_result(50,rectangular(f2,0,2.5,50),q3_answer)\n",
    "print_result(100,rectangular(f2,0,2.5,100),q3_answer)\n",
    "print_result(250,rectangular(f2,0,2.5,250),q3_answer)\n",
    "print_result(1000,rectangular(f2,0,2.5,1000),q3_answer)\n",
    "# include here additional function calls (as appropriate) for n=25, 50, 100, 250, 1000\n"
   ]
  },
  {
   "cell_type": "code",
   "execution_count": 36,
   "metadata": {},
   "outputs": [
    {
     "name": "stdout",
     "output_type": "stream",
     "text": [
      "Subintervals:   10,  Estimate: 0.493600,  Error: 0.000190\n",
      "Subintervals:   25,  Estimate: 0.493800,  Error: 0.000010\n",
      "Subintervals:   50,  Estimate: 0.493800,  Error: 0.000010\n",
      "Subintervals:  100,  Estimate: 0.493800,  Error: 0.000010\n",
      "Subintervals:  250,  Estimate: 0.493800,  Error: 0.000010\n",
      "Subintervals: 1000,  Estimate: 0.493800,  Error: 0.000010\n"
     ]
    }
   ],
   "source": [
    "# Question 3, trapezoidal method\n",
    "# here's the function call for n=10\n",
    "print_result(10,trapezoidal(f2,0,2.5,10),q3_answer)\n",
    "print_result(25,trapezoidal(f2,0,2.5,25),q3_answer)\n",
    "print_result(50,trapezoidal(f2,0,2.5,50),q3_answer)\n",
    "print_result(100,trapezoidal(f2,0,2.5,100),q3_answer)\n",
    "print_result(250,trapezoidal(f2,0,2.5,250),q3_answer)\n",
    "print_result(1000,trapezoidal(f2,0,2.5,1000),q3_answer)\n",
    "# include here additional function calls (as appropriate) for n=25, 50, 100, 250, 1000\n"
   ]
  },
  {
   "cell_type": "code",
   "execution_count": 37,
   "metadata": {},
   "outputs": [
    {
     "name": "stdout",
     "output_type": "stream",
     "text": [
      "Subintervals:   10,  Estimate: 0.493800,  Error: 0.000010\n",
      "Subintervals:   25,  Estimate: 0.493100,  Error: 0.000690\n",
      "Subintervals:   50,  Estimate: 0.493800,  Error: 0.000010\n",
      "Subintervals:  100,  Estimate: 0.493800,  Error: 0.000010\n",
      "Subintervals:  250,  Estimate: 0.493800,  Error: 0.000010\n",
      "Subintervals: 1000,  Estimate: 0.493800,  Error: 0.000010\n"
     ]
    }
   ],
   "source": [
    "# Question 3, Simpson's method\n",
    "# here's the function call for n=10\n",
    "print_result(10,simpsons(f2,0,2.5,10),q3_answer)\n",
    "print_result(25,simpsons(f2,0,2.5,25),q3_answer)\n",
    "print_result(50,simpsons(f2,0,2.5,50),q3_answer)\n",
    "print_result(100,simpsons(f2,0,2.5,100),q3_answer)\n",
    "print_result(250,simpsons(f2,0,2.5,250),q3_answer)\n",
    "print_result(1000,simpsons(f2,0,2.5,1000),q3_answer)\n",
    "# include here additional function calls (as appropriate) for n=25, 50, 100, 250, 1000\n"
   ]
  },
  {
   "cell_type": "markdown",
   "metadata": {
    "collapsed": true
   },
   "source": [
    "### Question 4: Based on your results in Question 1 and Question 2 above, complete the following three statements (you may add some code blocks below to figure out the answer to this question as needed).\n",
    "\n",
    "Note: double-click into cells to replace \"YOUR ANSWER HERE\"."
   ]
  },
  {
   "cell_type": "markdown",
   "metadata": {},
   "source": [
    "* For the Rectangular Method, cutting the interval h in half results in cutting the error by: "
   ]
  },
  {
   "cell_type": "markdown",
   "metadata": {
    "collapsed": true
   },
   "source": [
    "Cutting the interval h in half results in cutting the error by 50%\n"
   ]
  },
  {
   "cell_type": "markdown",
   "metadata": {
    "collapsed": true
   },
   "source": [
    "* For the Trapezoidal Method, cutting the interval h in half results in cutting the error by:"
   ]
  },
  {
   "cell_type": "markdown",
   "metadata": {
    "collapsed": true
   },
   "source": [
    " Cutting the interval h in half results in cutting the error by 27.78%\n",
    " "
   ]
  },
  {
   "cell_type": "markdown",
   "metadata": {
    "collapsed": true
   },
   "source": [
    "* For the Simpson's Method, cutting the interval h in half results in cutting the error by:"
   ]
  },
  {
   "cell_type": "markdown",
   "metadata": {
    "collapsed": true
   },
   "source": [
    "Do not have enough data to draw a conclusion \n"
   ]
  },
  {
   "cell_type": "markdown",
   "metadata": {},
   "source": [
    "### Task 5 (Graded)"
   ]
  },
  {
   "cell_type": "markdown",
   "metadata": {
    "collapsed": true
   },
   "source": [
    "Write another function to evaluate the integral \n",
    "\n",
    "$$ \\int_0^1 \\int_0^1 ( x^2 + y) \\ dy \\ dx $$\n",
    "\n",
    "via a two-dimensional version of the rectangular method (evaluate the function at the right-side of each subinterval). In this problem, you will need to iterate over both the x and y dimensions. Specifically, you should write a function called \n",
    "\n",
    "**rect2d(ax, bx, nx, ay, by, ny)** \n",
    "\n",
    "where ```[ax, bx]``` denotes the range of integration for the x variable and ```nx``` denotes the number of intervals in this dimension.  Similarly, ```[ay, by]``` denotes the range of integration for the y variable, and ```ny``` denotes the number of intervals in this dimension. To compute this integral, you will need to break the range for each dimension into ```nx``` and ```ny``` subintervals, respectively. \n",
    "\n",
    "Note: you do not need to pass an argument indicating which function to integrate — *your code needs only to work for this single function.*\n",
    "\n",
    "Use the code block below to develop your function:"
   ]
  },
  {
   "cell_type": "code",
   "execution_count": 38,
   "metadata": {},
   "outputs": [],
   "source": [
    "def f(x,y):\n",
    "    return (x*x + y)"
   ]
  },
  {
   "cell_type": "code",
   "execution_count": 39,
   "metadata": {},
   "outputs": [],
   "source": [
    "#estimates 2d integral using rectangular method\n",
    "def rect2d(ax, bx, nx, ay, by, ny):\n",
    "    hx = (bx-ax)/nx\n",
    "    hy = (by-ay)/ny\n",
    "    sum4 = 0\n",
    "    i = 1\n",
    "    while i <= nx:\n",
    "        x = ax + i*hx\n",
    "        j = 1 \n",
    "        while  j <= ny:\n",
    "            y = ay + j*hy\n",
    "            sum4 += f(x,y)\n",
    "            j += 1\n",
    "        i += 1 \n",
    "    return hx*hy*sum4 # your code goes here in place of this dummy statement\n",
    "# end of rect2d  "
   ]
  },
  {
   "cell_type": "code",
   "execution_count": 40,
   "metadata": {},
   "outputs": [
    {
     "data": {
      "text/plain": [
       "0.8837500000000004"
      ]
     },
     "execution_count": 40,
     "metadata": {},
     "output_type": "execute_result"
    }
   ],
   "source": [
    "rect2d(0,1,20,0,1,20) #testing the code above "
   ]
  },
  {
   "cell_type": "markdown",
   "metadata": {
    "collapsed": true
   },
   "source": [
    "### Question 5:  Use the Rectangular Method to estimate the integral \n",
    "\n",
    "$$\\int_0^1 \\int_0^1 ( x^2 + y) \\ dy \\ dx $$\n",
    "\n",
    "###     for the following values of nx and ny:  \n",
    "\n",
    "| $n_x$\t| $n_y$\t|\n",
    "|:-:\t|---\t|\n",
    "|    4\t|    4\t|\n",
    "|   16\t|   16\t|\n",
    "|   64 \t|   64 \t|\n",
    "|  256 \t|  256 \t|\n",
    "| 1024 \t| 1024 \t|"
   ]
  },
  {
   "cell_type": "markdown",
   "metadata": {
    "collapsed": true
   },
   "source": [
    "The code block below (when executed) should answer Question \\#5 **provided you have correctly implemented the algorithm in Task 5 above.**"
   ]
  },
  {
   "cell_type": "code",
   "execution_count": 41,
   "metadata": {},
   "outputs": [
    {
     "data": {
      "text/plain": [
       "0.8333333333333334"
      ]
     },
     "execution_count": 41,
     "metadata": {},
     "output_type": "execute_result"
    }
   ],
   "source": [
    "q5_answer = 5/6\n",
    "float(5/6) # needed to print the number to figure "
   ]
  },
  {
   "cell_type": "code",
   "execution_count": 42,
   "metadata": {},
   "outputs": [
    {
     "name": "stdout",
     "output_type": "stream",
     "text": [
      "Subintervals:    4,  Estimate: 1.093750,  Error: 0.260417\n",
      "Subintervals:   16,  Estimate: 0.896484,  Error: 0.063151\n",
      "Subintervals:   64,  Estimate: 0.848999,  Error: 0.015666\n",
      "Subintervals:  256,  Estimate: 0.837242,  Error: 0.003909\n",
      "Subintervals:   10,  Estimate: 0.834310,  Error: 0.000977\n"
     ]
    }
   ],
   "source": [
    "# okay, here are all the function calls for this one...\n",
    "print_result(4,rect2d(0.0,1.0,4,0.0,1.0,4),q5_answer)\n",
    "print_result(16,rect2d(0.0,1.0,16,0.0,1.0,16),q5_answer)\n",
    "print_result(64,rect2d(0.0,1.0,64,0.0,1.0,64),q5_answer)\n",
    "print_result(256,rect2d(0.0,1.0,256,0.0,1.0,256),q5_answer)\n",
    "print_result(10,rect2d(0.0,1.0,1024,0.0,1.0,1024),q5_answer)"
   ]
  }
 ],
 "metadata": {
  "anaconda-cloud": {},
  "kernelspec": {
   "display_name": "Python 3",
   "language": "python",
   "name": "python3"
  },
  "language_info": {
   "codemirror_mode": {
    "name": "ipython",
    "version": 3
   },
   "file_extension": ".py",
   "mimetype": "text/x-python",
   "name": "python",
   "nbconvert_exporter": "python",
   "pygments_lexer": "ipython3",
   "version": "3.7.11"
  }
 },
 "nbformat": 4,
 "nbformat_minor": 1
}
